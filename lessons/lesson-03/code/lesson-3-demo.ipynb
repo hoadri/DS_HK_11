{
 "cells": [
  {
   "cell_type": "markdown",
   "metadata": {},
   "source": [
    "# Lesson 3: Demos\n"
   ]
  },
  {
   "cell_type": "markdown",
   "metadata": {},
   "source": [
    "## Normality Demo\n",
    "http://hamelg.blogspot.com/2015/11/python-for-data-analysis-part-21.html"
   ]
  },
  {
   "cell_type": "code",
   "execution_count": null,
   "metadata": {
    "collapsed": false
   },
   "outputs": [],
   "source": [
    "#General imports\n",
    "import numpy as np\n",
    "import pandas as pd\n",
    "import seaborn as sns  # Plots!\n",
    "import matplotlib.pyplot as plt\n",
    "\n",
    "# Set the figure size for plotting\n",
    "sns.mpl.rc(\"figure\", figsize=(10,4))\n",
    "\n",
    "%matplotlib inline"
   ]
  },
  {
   "cell_type": "code",
   "execution_count": null,
   "metadata": {
    "collapsed": false
   },
   "outputs": [],
   "source": [
    "mtcars = pd.read_csv(\"mtcars.csv\")\n",
    "mtcars.head()"
   ]
  },
  {
   "cell_type": "code",
   "execution_count": 1,
   "metadata": {
    "collapsed": true
   },
   "outputs": [],
   "source": [
    "# Summary statistics\n",
    "# mtcars.mean()\n",
    "# mtcars.median()\n",
    "# mtcars.quantile(0.5)\n",
    "# mtcars.mode()\n",
    "# mtcars.std()\n",
    "# mtcars.median()\n",
    "# mtcars.quantile(0.25)"
   ]
  },
  {
   "cell_type": "code",
   "execution_count": null,
   "metadata": {
    "collapsed": true
   },
   "outputs": [],
   "source": [
    "plt.figure(figsize=(10, 10))\n",
    "mtcars.corr()\n",
    "\n",
    "# sns.heatmap\n",
    "\n",
    "# Pandas -> pd\n",
    "# Seaborn -> sns\n",
    "\n",
    "# sns.heatmap?"
   ]
  },
  {
   "cell_type": "code",
   "execution_count": null,
   "metadata": {
    "collapsed": true
   },
   "outputs": [],
   "source": [
    "mtcars[['cyl', 'mpg']].sort_values(by=\"mpg\").head(10)"
   ]
  },
  {
   "cell_type": "code",
   "execution_count": null,
   "metadata": {
    "collapsed": true
   },
   "outputs": [],
   "source": [
    "# To change size:\n",
    "\n",
    "sns.swarmplot(x=\"cyl\", y=\"mpg\", data=mtcars);\n",
    "sns.swarmplot?"
   ]
  },
  {
   "cell_type": "code",
   "execution_count": null,
   "metadata": {
    "collapsed": true
   },
   "outputs": [],
   "source": [
    "plt = sns.boxplot(x=\"cyl\", y=\"mpg\", data=mtcars)\n",
    "\n",
    "plt.text(x=0.25, y=31.25, s=\"3rd Quartile\")\n",
    "plt.text(x=-.2, y=26.75, s=\"Median\")\n",
    "plt.text(x=0.25, y=21.5, s=\"1st Quartile\")\n",
    "plt.text(x=-0.1, y=20, s=\"Min\")\n",
    "plt.text(x=-0.1, y=34.5, s=\"Max\")\n",
    "plt.text(x=0.45, y=27.5, s=\"IQR\", rotation=90, size=25);\n",
    "\n",
    "# mtcars[['mpg']].quartile(0.25)\n",
    "# mtcars[['mpg']].quartile(0.5)\n",
    "# mtcars[['mpg']].quartile(0.75)\n",
    "# mtcars[['mpg']].max()\n",
    "# mtcars[['mpg']].min()"
   ]
  },
  {
   "cell_type": "markdown",
   "metadata": {},
   "source": [
    "## Analyzing Distributions"
   ]
  },
  {
   "cell_type": "markdown",
   "metadata": {},
   "source": [
    "Although the mean and median both give us some sense of the center of a distribution, they aren't always the same. The *median* gives us a value that **splits the data into two halves** while the *mean* is a **numeric average,** so extreme values can have a significant impact on the mean. \n",
    "\n",
    "In a symmetric distribution, the mean and median will be the same. Let's investigate with a density plot:"
   ]
  },
  {
   "cell_type": "code",
   "execution_count": null,
   "metadata": {
    "collapsed": false
   },
   "outputs": [],
   "source": [
    "mtcars[\"mpg\"].skew()  # Check skewness"
   ]
  },
  {
   "cell_type": "code",
   "execution_count": null,
   "metadata": {
    "collapsed": false
   },
   "outputs": [],
   "source": [
    "mtcars[\"mpg\"].kurt()  # Check kurtosis "
   ]
  },
  {
   "cell_type": "markdown",
   "metadata": {},
   "source": [
    "To explore these two measures further, let's create some dummy data and inspect it:"
   ]
  },
  {
   "cell_type": "code",
   "execution_count": null,
   "metadata": {
    "collapsed": true
   },
   "outputs": [],
   "source": [
    "norm_data = np.random.normal(size=100000)\n",
    "skewed_data = np.concatenate((np.random.normal(size=35000)+2, \n",
    "                             np.random.exponential(size=65000)), \n",
    "                             axis=0)\n",
    "uniform_data = np.random.uniform(0,2, size=100000)\n",
    "peaked_data = np.concatenate((np.random.exponential(size=50000),\n",
    "                             np.random.exponential(size=50000)*(-1)),\n",
    "                             axis=0)\n",
    "\n",
    "data_df = pd.DataFrame({\"norm\":norm_data,\n",
    "                       \"skewed\":skewed_data,\n",
    "                       \"uniform\":uniform_data,\n",
    "                       \"peaked\":peaked_data})"
   ]
  },
  {
   "cell_type": "markdown",
   "metadata": {},
   "source": [
    "## Types of distributions"
   ]
  },
  {
   "cell_type": "code",
   "execution_count": null,
   "metadata": {
    "collapsed": false
   },
   "outputs": [],
   "source": [
    "\n",
    "plt = sns.kdeplot(data_df[\"norm\"]);\n",
    "\n",
    "kurtosis = data_df[\"norm\"].kurt()\n",
    "skewness = data_df[\"norm\"].skew()\n",
    "\n",
    "# Plot black line at mean\n",
    "plt.vlines(data_df[\"norm\"].mean(), ymin=0, ymax=.5, linewidth=2.0)\n",
    "\n",
    "# Plot red line at median\n",
    "plt.vlines(data_df[\"norm\"].median(), ymin=0, ymax=.5, linewidth=1.0, color=\"red\");\n",
    "\n",
    "plt.text(x=3, y=0.35, s=\"Kurtosis \" + str(kurtosis));\n",
    "plt.text(x=3, y=0.3, s=\"Skewness \" + str(skewness));"
   ]
  },
  {
   "cell_type": "code",
   "execution_count": null,
   "metadata": {
    "collapsed": false
   },
   "outputs": [],
   "source": [
    "dist = data_df[\"peaked\"]\n",
    "\n",
    "plt = sns.kdeplot(dist);\n",
    "\n",
    "kurtosis = dist.kurt()\n",
    "skewness = dist.skew()\n",
    "\n",
    "# Plot black line at mean\n",
    "plt.vlines(data_df[\"peaked\"].mean(), ymin=0, ymax=.5, linewidth=2.0)\n",
    "\n",
    "# Plot red line at median\n",
    "plt.vlines(data_df[\"peaked\"].median(), ymin=0, ymax=.5, linewidth=1.0, color=\"red\");\n",
    "\n",
    "plt.text(x=3, y=0.35, s=\"Kurtosis \" + str(kurtosis));\n",
    "plt.text(x=3, y=0.3, s=\"Skewness \" + str(skewness));\n"
   ]
  },
  {
   "cell_type": "code",
   "execution_count": null,
   "metadata": {
    "collapsed": false
   },
   "outputs": [],
   "source": [
    "plt = sns.kdeplot(data_df[\"uniform\"])\n",
    "\n",
    "kurtosis = data_df[\"uniform\"].kurt()\n",
    "skewness = data_df[\"uniform\"].skew()\n",
    "\n",
    "# Plot black line at mean\n",
    "plt.vlines(data_df[\"uniform\"].mean(), ymin=0, ymax=.6, linewidth=2.0)\n",
    "\n",
    "# Plot red line at median\n",
    "plt.vlines(data_df[\"uniform\"].median(), ymin=0, ymax=.6, linewidth=1.0, color=\"red\");\n",
    "\n",
    "plt.text(x=2, y=0.35, s=\"Kurtosis \" + str(kurtosis));\n",
    "plt.text(x=2, y=0.3, s=\"Skewness \" + str(skewness));"
   ]
  },
  {
   "cell_type": "code",
   "execution_count": null,
   "metadata": {
    "collapsed": false
   },
   "outputs": [],
   "source": [
    "plt = sns.kdeplot(data_df[\"skewed\"])\n",
    "\n",
    "kurtosis = data_df[\"skewed\"].kurt()\n",
    "skewness = data_df[\"skewed\"].skew()\n",
    "\n",
    "# Plot black line at mean\n",
    "plt.vlines(data_df[\"skewed\"].mean(), ymin=0, ymax=.6, linewidth=2.0)\n",
    "\n",
    "# Plot red line at median\n",
    "plt.vlines(data_df[\"skewed\"].median(), ymin=0, ymax=.6, linewidth=1.0, color=\"red\");\n",
    "\n",
    "plt.text(x=2, y=0.35, s=\"Kurtosis \" + str(kurtosis));\n",
    "plt.text(x=2, y=0.3, s=\"Skewness \" + str(skewness));"
   ]
  },
  {
   "cell_type": "code",
   "execution_count": null,
   "metadata": {
    "collapsed": false
   },
   "outputs": [],
   "source": [
    "data_df[\"skewed\"].median()"
   ]
  },
  {
   "cell_type": "code",
   "execution_count": null,
   "metadata": {
    "collapsed": false
   },
   "outputs": [],
   "source": [
    "norm_data = np.random.normal(size=50)\n",
    "outliers = np.random.normal(15, size=3)\n",
    "combined_data = pd.DataFrame({\"combined\": np.concatenate((norm_data, outliers), axis=0)})\n",
    "comb = combined_data[\"combined\"] \n",
    "\n",
    "sns.kdeplot(comb)\n",
    "\n",
    "kurtosis = comb.kurt()\n",
    "skewness = comb.skew()\n",
    "plt.vlines(comb.mean(),     # Plot black line at mean\n",
    "           ymin=0, \n",
    "           ymax=.45,\n",
    "           linewidth=2.0)\n",
    "\n",
    "plt.vlines(comb.median(),   # Plot red line at median\n",
    "           ymin=0, \n",
    "           ymax=.45, \n",
    "           linewidth=1.0,\n",
    "           color=\"red\")\n",
    "\n",
    "plt.text(x=2, y=0.2, s=\"Kurtosis \" + str(kurtosis));\n",
    "plt.text(x=2, y=0.15, s=\"Skewness \" + str(skewness));"
   ]
  },
  {
   "cell_type": "markdown",
   "metadata": {},
   "source": [
    "Since the median tends to resist the effects of skewness and outliers, it is known a \"robust\" statistic. \n",
    "\n",
    "The median generally gives a better sense of the typical value in a distribution with significant skew or outliers."
   ]
  },
  {
   "cell_type": "markdown",
   "metadata": {},
   "source": [
    "### All together"
   ]
  },
  {
   "cell_type": "code",
   "execution_count": null,
   "metadata": {
    "collapsed": false
   },
   "outputs": [],
   "source": [
    "plt = sns.kdeplot(data_df[\"uniform\"])\n",
    "sns.kdeplot(data_df[\"peaked\"])\n",
    "sns.kdeplot(data_df[\"skewed\"])\n",
    "sns.kdeplot?"
   ]
  },
  {
   "cell_type": "code",
   "execution_count": null,
   "metadata": {
    "collapsed": false
   },
   "outputs": [],
   "source": [
    "exponential_dist = np.random.exponential(size=100000)\n",
    "\n",
    "exp_data = pd.DataFrame(exponential_dist)\n",
    "\n",
    "plt = sns.distplot(skewed_data)\n",
    "\n",
    "# Plot black line at mean\n",
    "plt.vlines(exp_data.mean(), ymin=0, ymax=1, linewidth=2.0)\n",
    "\n",
    "# Plot red line at median\n",
    "plt.vlines(exp_data.median(), ymin=0, ymax=1, linewidth=1.0, color=\"red\");\n",
    "\n",
    "print \"MEAN: \", exp_data[0].mean() \n",
    "print \"STD: \", exp_data[0].std()\n",
    "print \"Kurt:\", exp_data[0].kurt() \n",
    "print \"Skew: \", exp_data[0].skew()"
   ]
  },
  {
   "cell_type": "markdown",
   "metadata": {},
   "source": [
    "### Skewness and Kurtosis\n",
    "*Skewness* measures the **skew or asymmetry of a distribution** while *Kurtosis* measures the **\"peakedness\" of a distribution**. \n",
    "\n",
    "We won't go into the exact calculations behind these, but they are essentially just statistics that take the idea of variance a step further: while variance involves squaring deviations from the mean, skewness involves cubing deviations from the mean, and kurtosis involves raising deviations from the mean to the 4th power.\n",
    "\n",
    "Pandas has built in functions for checking skewness and kurtosis, df.skew() and df.kurt() respectively:"
   ]
  },
  {
   "cell_type": "markdown",
   "metadata": {},
   "source": [
    "### Skewness"
   ]
  },
  {
   "cell_type": "markdown",
   "metadata": {},
   "source": [
    "Now let's check the skewness of each of these distributions. \n",
    "\n",
    "Since skewness measures asymmetry, we'd expect to see low skewness for all of the distributions except the skewed one, because all the others are roughly symmetric:"
   ]
  },
  {
   "cell_type": "code",
   "execution_count": null,
   "metadata": {
    "collapsed": false
   },
   "outputs": [],
   "source": [
    "data_df.skew()"
   ]
  },
  {
   "cell_type": "markdown",
   "metadata": {},
   "source": [
    "### Kurtosis"
   ]
  },
  {
   "cell_type": "markdown",
   "metadata": {},
   "source": [
    "Now let's check kurtosis. Since kurtosis measures peakedness, we'd expect the flat (uniform) distribution to have low kurtosis while the distributions with sharper peaks should have higher kurtosis."
   ]
  },
  {
   "cell_type": "code",
   "execution_count": null,
   "metadata": {
    "collapsed": false
   },
   "outputs": [],
   "source": [
    "data_df.kurt()"
   ]
  },
  {
   "cell_type": "markdown",
   "metadata": {},
   "source": [
    "As we can see from the output, the normally distributed data has a kurtosis near zero, the flat distribution has negative kurtosis, and the two pointier distributions have positive kurtosis."
   ]
  },
  {
   "cell_type": "markdown",
   "metadata": {},
   "source": [
    "### Post-class exercises\n",
    "\n",
    "- http://chrisalbon.com/python/pandas_with_seaborn.html\n",
    "- https://stanford.edu/~mwaskom/software/seaborn/tutorial/distributions.html\n",
    "- https://stanford.edu/~mwaskom/software/seaborn/tutorial/categorical.html"
   ]
  },
  {
   "cell_type": "markdown",
   "metadata": {},
   "source": [
    "## Class Variable Demo"
   ]
  },
  {
   "cell_type": "markdown",
   "metadata": {},
   "source": [
    "### Class/Dummy Variables\n",
    "We want to represent categorical variables numerically, but we can't simply code them as 0=rural, 1=suburban, 2=urban because that would imply an **ordered relationship** between suburban and urban (suggesting that urban is somehow \"twice\" the suburban category, which doesn't make sense).\n",
    "\n",
    "Why do we only need **two dummy variables, not three?** Because two dummies capture all of the information about the Area feature, and implicitly defines rural as the reference level.\n",
    "\n",
    "In general, if you have a categorical feature with k levels, you create k-1 dummy variables.\n"
   ]
  },
  {
   "cell_type": "markdown",
   "metadata": {},
   "source": [
    "#### Create three dummy variables using get_dummies, then exclude the first dummy column\n",
    "my_categorical_var_dummies = pd.get_dummies(my_categorical_var, prefix='Area').iloc[:, 1:]"
   ]
  },
  {
   "cell_type": "code",
   "execution_count": null,
   "metadata": {
    "collapsed": false
   },
   "outputs": [],
   "source": [
    "# read data into a DataFrame\n",
    "data = pd.read_csv('http://www-bcf.usc.edu/~gareth/ISL/Advertising.csv', index_col=0)\n",
    "data.head()"
   ]
  },
  {
   "cell_type": "markdown",
   "metadata": {},
   "source": [
    "### Handling Categorical Predictors with Two Categories\n",
    "\n",
    "Up to now, all of our predictors have been numeric. What if one of our predictors was categorical?\n",
    "\n",
    "Let's create a new feature called \"Size,\" and randomly assign observations to be small or large:"
   ]
  },
  {
   "cell_type": "code",
   "execution_count": null,
   "metadata": {
    "collapsed": false
   },
   "outputs": [],
   "source": [
    "# set a seed for reproducibility\n",
    "np.random.seed(12345)\n",
    "\n",
    "# create a Series of booleans in which roughly half are True\n",
    "nums = np.random.rand(len(data))\n",
    "mask_large = nums > 0.5\n",
    "\n",
    "# initially set Size to small, then change roughly half to be large\n",
    "data['Size'] = 'small'\n",
    "data.loc[mask_large, 'Size'] = 'large'\n",
    "data.head()"
   ]
  },
  {
   "cell_type": "markdown",
   "metadata": {},
   "source": [
    "For scikit-learn, we need to represent all data numerically. \n",
    "\n",
    "If the feature only has two categories, we can simply create a dummy variable that represents the categories as a binary value."
   ]
  },
  {
   "cell_type": "code",
   "execution_count": null,
   "metadata": {
    "collapsed": false,
    "scrolled": true
   },
   "outputs": [],
   "source": [
    "# create a new Series called IsLarge\n",
    "data['IsLarge'] = data.Size.map({'small':0, 'large':1})\n",
    "data.head()"
   ]
  },
  {
   "cell_type": "markdown",
   "metadata": {},
   "source": [
    "### Handling Categorical Predictors with More than Two Categories\n",
    "\n",
    "Let's create a new feature called Area, and randomly assign observations to be rural, suburban, or urban:"
   ]
  },
  {
   "cell_type": "code",
   "execution_count": null,
   "metadata": {
    "collapsed": false
   },
   "outputs": [],
   "source": [
    "# set a seed for reproducibility\n",
    "np.random.seed(123456)\n",
    "\n",
    "# assign roughly one third of observations to each group\n",
    "nums = np.random.rand(len(data))\n",
    "mask_suburban = (nums > 0.33) & (nums < 0.66)\n",
    "mask_urban = nums > 0.66\n",
    "data['Area'] = 'rural'\n",
    "data.loc[mask_suburban, 'Area'] = 'suburban'\n",
    "data.loc[mask_urban, 'Area'] = 'urban'\n",
    "data.head()"
   ]
  },
  {
   "cell_type": "markdown",
   "metadata": {},
   "source": [
    "We have to represent Area numerically, but we can't simply code it as 0=rural, 1=suburban, 2=urban because that would imply an ordered relationship between suburban and urban (and thus urban is somehow \"twice\" the suburban category).\n",
    "\n",
    "Instead, we create another dummy variable:"
   ]
  },
  {
   "cell_type": "code",
   "execution_count": null,
   "metadata": {
    "collapsed": false
   },
   "outputs": [],
   "source": [
    "# create three dummy variables using get_dummies, then exclude the first dummy column\n",
    "area_dummies = pd.get_dummies(data.Area, prefix='Area').iloc[:, 1:]\n",
    "\n",
    "# concatenate the dummy variable columns onto the original DataFrame (axis=0 means rows, axis=1 means columns)\n",
    "data = pd.concat([data, area_dummies], axis=1)\n",
    "data.head()"
   ]
  }
 ],
 "metadata": {
  "anaconda-cloud": {},
  "kernelspec": {
   "display_name": "Python [conda env:py27]",
   "language": "python",
   "name": "conda-env-py27-py"
  },
  "language_info": {
   "codemirror_mode": {
    "name": "ipython",
    "version": 2
   },
   "file_extension": ".py",
   "mimetype": "text/x-python",
   "name": "python",
   "nbconvert_exporter": "python",
   "pygments_lexer": "ipython2",
   "version": "2.7.12"
  }
 },
 "nbformat": 4,
 "nbformat_minor": 0
}
