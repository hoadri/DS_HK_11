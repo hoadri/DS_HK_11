{
 "cells": [
  {
   "cell_type": "markdown",
   "metadata": {},
   "source": [
    "\n",
    "# Levels of Measurement"
   ]
  },
  {
   "cell_type": "markdown",
   "metadata": {},
   "source": [
    "There are four types of data that may be gathered for analysis, each one adding more to the next."
   ]
  },
  {
   "cell_type": "markdown",
   "metadata": {},
   "source": [
    "## Variable Types"
   ]
  },
  {
   "cell_type": "markdown",
   "metadata": {},
   "source": [
    "Using the IMDb Ratings Dataset to illustrate the levels of measurement with real world data"
   ]
  },
  {
   "cell_type": "code",
   "execution_count": 1,
   "metadata": {
    "collapsed": false,
    "scrolled": false
   },
   "outputs": [
    {
     "data": {
      "text/html": [
       "<div>\n",
       "<table border=\"1\" class=\"dataframe\">\n",
       "  <thead>\n",
       "    <tr style=\"text-align: right;\">\n",
       "      <th></th>\n",
       "      <th>description</th>\n",
       "      <th>Title type</th>\n",
       "      <th>const</th>\n",
       "      <th>Year</th>\n",
       "      <th>Directors</th>\n",
       "      <th>Title</th>\n",
       "      <th>created</th>\n",
       "      <th>You rated</th>\n",
       "      <th>position</th>\n",
       "      <th>Num. Votes</th>\n",
       "    </tr>\n",
       "  </thead>\n",
       "  <tbody>\n",
       "    <tr>\n",
       "      <th>203</th>\n",
       "      <td>NaN</td>\n",
       "      <td>Feature Film</td>\n",
       "      <td>tt0443543</td>\n",
       "      <td>2006</td>\n",
       "      <td>Neil Burger</td>\n",
       "      <td>The Illusionist</td>\n",
       "      <td>Wed Nov 28 00:00:00 2012</td>\n",
       "      <td>7</td>\n",
       "      <td>204</td>\n",
       "      <td>293576</td>\n",
       "    </tr>\n",
       "    <tr>\n",
       "      <th>812</th>\n",
       "      <td>NaN</td>\n",
       "      <td>Feature Film</td>\n",
       "      <td>tt0167190</td>\n",
       "      <td>2004</td>\n",
       "      <td>Guillermo del Toro</td>\n",
       "      <td>Hellboy</td>\n",
       "      <td>Sun Oct 24 00:00:00 2004</td>\n",
       "      <td>3</td>\n",
       "      <td>813</td>\n",
       "      <td>243371</td>\n",
       "    </tr>\n",
       "    <tr>\n",
       "      <th>967</th>\n",
       "      <td>NaN</td>\n",
       "      <td>TV Movie</td>\n",
       "      <td>tt0119781</td>\n",
       "      <td>1998</td>\n",
       "      <td>Rod Hardy</td>\n",
       "      <td>Nick Fury: Agent of Shield</td>\n",
       "      <td>Tue Jul 29 00:00:00 2003</td>\n",
       "      <td>6</td>\n",
       "      <td>968</td>\n",
       "      <td>2042</td>\n",
       "    </tr>\n",
       "    <tr>\n",
       "      <th>185</th>\n",
       "      <td>NaN</td>\n",
       "      <td>Feature Film</td>\n",
       "      <td>tt0319061</td>\n",
       "      <td>2003</td>\n",
       "      <td>Tim Burton</td>\n",
       "      <td>Big Fish</td>\n",
       "      <td>Thu Dec 13 00:00:00 2012</td>\n",
       "      <td>8</td>\n",
       "      <td>186</td>\n",
       "      <td>349428</td>\n",
       "    </tr>\n",
       "    <tr>\n",
       "      <th>1293</th>\n",
       "      <td>NaN</td>\n",
       "      <td>Feature Film</td>\n",
       "      <td>tt0087597</td>\n",
       "      <td>1984</td>\n",
       "      <td>Nick Castle</td>\n",
       "      <td>The Last Starfighter</td>\n",
       "      <td>Sat Nov 17 00:00:00 2001</td>\n",
       "      <td>4</td>\n",
       "      <td>1294</td>\n",
       "      <td>28900</td>\n",
       "    </tr>\n",
       "    <tr>\n",
       "      <th>1209</th>\n",
       "      <td>NaN</td>\n",
       "      <td>Feature Film</td>\n",
       "      <td>tt0244244</td>\n",
       "      <td>2001</td>\n",
       "      <td>Dominic Sena</td>\n",
       "      <td>Swordfish</td>\n",
       "      <td>Thu Apr 18 00:00:00 2002</td>\n",
       "      <td>9</td>\n",
       "      <td>1210</td>\n",
       "      <td>155057</td>\n",
       "    </tr>\n",
       "    <tr>\n",
       "      <th>1765</th>\n",
       "      <td>NaN</td>\n",
       "      <td>Video</td>\n",
       "      <td>tt0109552</td>\n",
       "      <td>1995</td>\n",
       "      <td>Bradford May</td>\n",
       "      <td>Darkman II: The Return of Durant</td>\n",
       "      <td>Thu Jun 21 00:00:00 2001</td>\n",
       "      <td>8</td>\n",
       "      <td>1766</td>\n",
       "      <td>3618</td>\n",
       "    </tr>\n",
       "    <tr>\n",
       "      <th>1707</th>\n",
       "      <td>NaN</td>\n",
       "      <td>Feature Film</td>\n",
       "      <td>tt0116320</td>\n",
       "      <td>1996</td>\n",
       "      <td>Kevin Hooks</td>\n",
       "      <td>Fled</td>\n",
       "      <td>Tue Jun 26 00:00:00 2001</td>\n",
       "      <td>5</td>\n",
       "      <td>1708</td>\n",
       "      <td>7045</td>\n",
       "    </tr>\n",
       "    <tr>\n",
       "      <th>1107</th>\n",
       "      <td>NaN</td>\n",
       "      <td>Feature Film</td>\n",
       "      <td>tt0146316</td>\n",
       "      <td>2001</td>\n",
       "      <td>Simon West</td>\n",
       "      <td>Lara Croft: Tomb Raider</td>\n",
       "      <td>Thu Oct 24 00:00:00 2002</td>\n",
       "      <td>4</td>\n",
       "      <td>1108</td>\n",
       "      <td>156300</td>\n",
       "    </tr>\n",
       "    <tr>\n",
       "      <th>1341</th>\n",
       "      <td>NaN</td>\n",
       "      <td>Short Film</td>\n",
       "      <td>tt0042820</td>\n",
       "      <td>1950</td>\n",
       "      <td>Jack Hannah</td>\n",
       "      <td>Out on a Limb</td>\n",
       "      <td>Mon Oct 15 00:00:00 2001</td>\n",
       "      <td>7</td>\n",
       "      <td>1342</td>\n",
       "      <td>299</td>\n",
       "    </tr>\n",
       "  </tbody>\n",
       "</table>\n",
       "</div>"
      ],
      "text/plain": [
       "      description    Title type      const  Year           Directors  \\\n",
       "203           NaN  Feature Film  tt0443543  2006         Neil Burger   \n",
       "812           NaN  Feature Film  tt0167190  2004  Guillermo del Toro   \n",
       "967           NaN      TV Movie  tt0119781  1998           Rod Hardy   \n",
       "185           NaN  Feature Film  tt0319061  2003          Tim Burton   \n",
       "1293          NaN  Feature Film  tt0087597  1984         Nick Castle   \n",
       "1209          NaN  Feature Film  tt0244244  2001        Dominic Sena   \n",
       "1765          NaN         Video  tt0109552  1995        Bradford May   \n",
       "1707          NaN  Feature Film  tt0116320  1996         Kevin Hooks   \n",
       "1107          NaN  Feature Film  tt0146316  2001          Simon West   \n",
       "1341          NaN    Short Film  tt0042820  1950         Jack Hannah   \n",
       "\n",
       "                                 Title                   created  You rated  \\\n",
       "203                    The Illusionist  Wed Nov 28 00:00:00 2012          7   \n",
       "812                            Hellboy  Sun Oct 24 00:00:00 2004          3   \n",
       "967         Nick Fury: Agent of Shield  Tue Jul 29 00:00:00 2003          6   \n",
       "185                           Big Fish  Thu Dec 13 00:00:00 2012          8   \n",
       "1293              The Last Starfighter  Sat Nov 17 00:00:00 2001          4   \n",
       "1209                         Swordfish  Thu Apr 18 00:00:00 2002          9   \n",
       "1765  Darkman II: The Return of Durant  Thu Jun 21 00:00:00 2001          8   \n",
       "1707                              Fled  Tue Jun 26 00:00:00 2001          5   \n",
       "1107           Lara Croft: Tomb Raider  Thu Oct 24 00:00:00 2002          4   \n",
       "1341                     Out on a Limb  Mon Oct 15 00:00:00 2001          7   \n",
       "\n",
       "      position  Num. Votes  \n",
       "203        204      293576  \n",
       "812        813      243371  \n",
       "967        968        2042  \n",
       "185        186      349428  \n",
       "1293      1294       28900  \n",
       "1209      1210      155057  \n",
       "1765      1766        3618  \n",
       "1707      1708        7045  \n",
       "1107      1108      156300  \n",
       "1341      1342         299  "
      ]
     },
     "execution_count": 1,
     "metadata": {},
     "output_type": "execute_result"
    }
   ],
   "source": [
    "# Pandas\n",
    "import pandas as pd\n",
    "\n",
    "# Plotting\n",
    "import cufflinks as cf\n",
    "cf.go_offline()\n",
    "\n",
    "# Loading Data\n",
    "fn = 'imdb_ratings_user1.csv'\n",
    "df = pd.read_csv('../assets/dataset/' + fn)\n",
    "# df.sample(10, axis=1)\n",
    "df.sample(10, axis=1).sample(10)"
   ]
  },
  {
   "cell_type": "markdown",
   "metadata": {},
   "source": [
    "## Level of Measurement"
   ]
  },
  {
   "cell_type": "markdown",
   "metadata": {},
   "source": [
    "### Nominal"
   ]
  },
  {
   "cell_type": "markdown",
   "metadata": {},
   "source": [
    "![](../assets/images/nominal-scales.png)"
   ]
  },
  {
   "cell_type": "markdown",
   "metadata": {},
   "source": [
    "In this scale, categories are nominated names (hence “nominal”). There is no inherent order between categories. Put simply, one cannot say that a particular category is superior/ better than another. These can be either linguistic or numeric. **Nominal numbers** or categorical numbers are numerals used for identification only. The numerical value is irrelevant, and they do not indicate quantity, rank, or any other measurement."
   ]
  },
  {
   "cell_type": "markdown",
   "metadata": {},
   "source": [
    "#### Examples"
   ]
  },
  {
   "cell_type": "markdown",
   "metadata": {},
   "source": [
    "Each category can only be considered as equal to the other.\n",
    "\n",
    "* **Gender (Male/ Female)**:- One cannot say that Males are better than Females, or vice-versa.\n",
    "* **Blood Groups (A/B/O/AB)**:- Here, too, the categories cannot be arranged in a logical order.\n",
    "* **Bus Routes (101,40,37)**: The _order_ typically isn't relevant, as the number is used for identification purposes only.)"
   ]
  },
  {
   "cell_type": "markdown",
   "metadata": {},
   "source": [
    "#### IMDB Dataset : Title Type"
   ]
  },
  {
   "cell_type": "code",
   "execution_count": 2,
   "metadata": {
    "collapsed": false
   },
   "outputs": [
    {
     "data": {
      "text/html": [
       "<iframe id=\"igraph\" scrolling=\"no\" style=\"border:none;\" seamless=\"seamless\" src=\"https://plot.ly/~tijptjik/148.embed\" height=\"525px\" width=\"100%\"></iframe>"
      ],
      "text/plain": [
       "<plotly.tools.PlotlyDisplay object>"
      ]
     },
     "execution_count": 2,
     "metadata": {},
     "output_type": "execute_result"
    }
   ],
   "source": [
    "df[['Title type']].fillna('Unknown').iplot(kind='hist')"
   ]
  },
  {
   "cell_type": "markdown",
   "metadata": {},
   "source": [
    "### Ordinal"
   ]
  },
  {
   "cell_type": "markdown",
   "metadata": {},
   "source": [
    "![](../assets/images/ordinal-scales.png)"
   ]
  },
  {
   "cell_type": "markdown",
   "metadata": {},
   "source": [
    "The various categories can be logically arranged in a meaningful order. However, the difference between the categories is not “meaningful”. Hence. you cannot do arithmetic with ordinal numbers -- they show sequence only."
   ]
  },
  {
   "cell_type": "markdown",
   "metadata": {},
   "source": [
    "#### Examples"
   ]
  },
  {
   "cell_type": "markdown",
   "metadata": {},
   "source": [
    "* Ranks (1st/ 2nd/ 3rd, etc.): The ranks can be arranged in either ascending or descending order without difficulty. However, the difference between ranks is not the same - the difference between the 1st rank and 2nd rank may be 20 units, but that between the 2nd and 3rd ranks may be 3 units. In addition, it is not possible to say that the 1st rank is x times better than the 2nd or 3rd rank purely on the basis of the ranks.\n",
    "* Ranks (Good/ Better/ Best), (No pain/ Mild pain/ Moderate pain/ Severe pain): Here, too, a meaningful arrangement (ordering) is possible, but the difference between the categories is subjective and not uniform. “Best” is not necessarily thrice as good as “Good”; or twice as good as “Better”.\n",
    "* Likert scale (Strongly Disagree/ Disagree/ Neutral/ Agree/ Strongly Agree) : The ordering is flexible - the order can easily be reversed without affecting the interpretation - (Strongly Agree/ Agree/ Neutral/ Disagree/ Strongly Disagree). Again, the difference between categories is not uniform."
   ]
  },
  {
   "cell_type": "markdown",
   "metadata": {},
   "source": [
    "#### IMDB Dataset : Ratings"
   ]
  },
  {
   "cell_type": "code",
   "execution_count": 3,
   "metadata": {
    "collapsed": false
   },
   "outputs": [
    {
     "data": {
      "text/html": [
       "<div>\n",
       "<table border=\"1\" class=\"dataframe\">\n",
       "  <thead>\n",
       "    <tr style=\"text-align: right;\">\n",
       "      <th></th>\n",
       "      <th>You rated</th>\n",
       "      <th>IMDb Rating</th>\n",
       "    </tr>\n",
       "  </thead>\n",
       "  <tbody>\n",
       "    <tr>\n",
       "      <th>1.0</th>\n",
       "      <td>17</td>\n",
       "      <td>NaN</td>\n",
       "    </tr>\n",
       "    <tr>\n",
       "      <th>2.0</th>\n",
       "      <td>59</td>\n",
       "      <td>NaN</td>\n",
       "    </tr>\n",
       "    <tr>\n",
       "      <th>2.3</th>\n",
       "      <td>NaN</td>\n",
       "      <td>1</td>\n",
       "    </tr>\n",
       "    <tr>\n",
       "      <th>2.4</th>\n",
       "      <td>NaN</td>\n",
       "      <td>3</td>\n",
       "    </tr>\n",
       "    <tr>\n",
       "      <th>2.7</th>\n",
       "      <td>NaN</td>\n",
       "      <td>1</td>\n",
       "    </tr>\n",
       "    <tr>\n",
       "      <th>2.8</th>\n",
       "      <td>NaN</td>\n",
       "      <td>1</td>\n",
       "    </tr>\n",
       "    <tr>\n",
       "      <th>2.9</th>\n",
       "      <td>NaN</td>\n",
       "      <td>1</td>\n",
       "    </tr>\n",
       "    <tr>\n",
       "      <th>3.0</th>\n",
       "      <td>109</td>\n",
       "      <td>1</td>\n",
       "    </tr>\n",
       "    <tr>\n",
       "      <th>3.1</th>\n",
       "      <td>NaN</td>\n",
       "      <td>3</td>\n",
       "    </tr>\n",
       "    <tr>\n",
       "      <th>3.2</th>\n",
       "      <td>NaN</td>\n",
       "      <td>3</td>\n",
       "    </tr>\n",
       "    <tr>\n",
       "      <th>3.3</th>\n",
       "      <td>NaN</td>\n",
       "      <td>3</td>\n",
       "    </tr>\n",
       "    <tr>\n",
       "      <th>3.4</th>\n",
       "      <td>NaN</td>\n",
       "      <td>3</td>\n",
       "    </tr>\n",
       "    <tr>\n",
       "      <th>3.5</th>\n",
       "      <td>NaN</td>\n",
       "      <td>2</td>\n",
       "    </tr>\n",
       "    <tr>\n",
       "      <th>3.6</th>\n",
       "      <td>NaN</td>\n",
       "      <td>2</td>\n",
       "    </tr>\n",
       "    <tr>\n",
       "      <th>3.7</th>\n",
       "      <td>NaN</td>\n",
       "      <td>8</td>\n",
       "    </tr>\n",
       "    <tr>\n",
       "      <th>3.8</th>\n",
       "      <td>NaN</td>\n",
       "      <td>6</td>\n",
       "    </tr>\n",
       "    <tr>\n",
       "      <th>3.9</th>\n",
       "      <td>NaN</td>\n",
       "      <td>4</td>\n",
       "    </tr>\n",
       "    <tr>\n",
       "      <th>4.0</th>\n",
       "      <td>158</td>\n",
       "      <td>4</td>\n",
       "    </tr>\n",
       "    <tr>\n",
       "      <th>4.1</th>\n",
       "      <td>NaN</td>\n",
       "      <td>6</td>\n",
       "    </tr>\n",
       "    <tr>\n",
       "      <th>4.2</th>\n",
       "      <td>NaN</td>\n",
       "      <td>5</td>\n",
       "    </tr>\n",
       "  </tbody>\n",
       "</table>\n",
       "</div>"
      ],
      "text/plain": [
       "     You rated  IMDb Rating\n",
       "1.0         17          NaN\n",
       "2.0         59          NaN\n",
       "2.3        NaN            1\n",
       "2.4        NaN            3\n",
       "2.7        NaN            1\n",
       "2.8        NaN            1\n",
       "2.9        NaN            1\n",
       "3.0        109            1\n",
       "3.1        NaN            3\n",
       "3.2        NaN            3\n",
       "3.3        NaN            3\n",
       "3.4        NaN            3\n",
       "3.5        NaN            2\n",
       "3.6        NaN            2\n",
       "3.7        NaN            8\n",
       "3.8        NaN            6\n",
       "3.9        NaN            4\n",
       "4.0        158            4\n",
       "4.1        NaN            6\n",
       "4.2        NaN            5"
      ]
     },
     "execution_count": 3,
     "metadata": {},
     "output_type": "execute_result"
    }
   ],
   "source": [
    "df[['You rated','IMDb Rating']].apply(pd.Series.value_counts).head(20)"
   ]
  },
  {
   "cell_type": "markdown",
   "metadata": {},
   "source": [
    "### Interval"
   ]
  },
  {
   "cell_type": "markdown",
   "metadata": {},
   "source": [
    "![](../assets/images/example-of-interval-scale.jpeg)"
   ]
  },
  {
   "cell_type": "markdown",
   "metadata": {},
   "source": [
    "Interval data is measured along a scale in which each position is equidistant from one another. This allows for the distance between two pairs to be equivalent in some way. The values (not categories) can be ordered and have a meaningful difference, but doubling is not meaningful. This is because of the absence of an “absolute zero”."
   ]
  },
  {
   "cell_type": "markdown",
   "metadata": {},
   "source": [
    "#### Examples"
   ]
  },
  {
   "cell_type": "markdown",
   "metadata": {},
   "source": [
    "* **The Celsius scale**: The difference between 40 C and 50 C is the same as that between 20 C and 30 C (meaningful difference = equidistant). Besides, 50 C is hotter than 40 C (order). However, 20 C is not half as hot as 40 C and vice versa (doubling is not meaningful).\n",
    "* **My level of happiness, rated from 1 to 10**: If I rate my happiness as 8, it doesn't mean I am twice as happy as whenever I rate my happiness as 4."
   ]
  },
  {
   "cell_type": "markdown",
   "metadata": {},
   "source": [
    "#### IMDB Dataset : Datetimes"
   ]
  },
  {
   "cell_type": "code",
   "execution_count": 4,
   "metadata": {
    "collapsed": false
   },
   "outputs": [],
   "source": [
    "df['Release Date (month/day/year)'] = pd.to_datetime(df['Release Date (month/day/year)'])\n",
    "df = df.set_index('Release Date (month/day/year)')"
   ]
  },
  {
   "cell_type": "code",
   "execution_count": 5,
   "metadata": {
    "collapsed": false
   },
   "outputs": [
    {
     "data": {
      "text/html": [
       "<iframe id=\"igraph\" scrolling=\"no\" style=\"border:none;\" seamless=\"seamless\" src=\"https://plot.ly/~tijptjik/150.embed\" height=\"525px\" width=\"100%\"></iframe>"
      ],
      "text/plain": [
       "<plotly.tools.PlotlyDisplay object>"
      ]
     },
     "execution_count": 5,
     "metadata": {},
     "output_type": "execute_result"
    }
   ],
   "source": [
    "df[['Title']].resample('3M','count').iplot()"
   ]
  },
  {
   "cell_type": "code",
   "execution_count": 6,
   "metadata": {
    "collapsed": false
   },
   "outputs": [],
   "source": [
    "df = df.reset_index().set_index('Title')"
   ]
  },
  {
   "cell_type": "markdown",
   "metadata": {},
   "source": [
    "### Ratio"
   ]
  },
  {
   "cell_type": "markdown",
   "metadata": {},
   "source": [
    "![](../assets/images/example-of-ratio-scale.jpeg)"
   ]
  },
  {
   "cell_type": "markdown",
   "metadata": {},
   "source": [
    "The values can be ordered, have a meaningful difference, and doubling is also meaningful. There is an “absolute zero”. Ratio data can be multiplied and divided because not only is the difference between 1 and 2 the same as between 3 and 4, but also that 4 is twice as much as 2. Interval and ratio data measure quantities and hence are quantitative.  Because they can be measured on a scale, they are also called scale data."
   ]
  },
  {
   "cell_type": "markdown",
   "metadata": {},
   "source": [
    "#### Examples"
   ]
  },
  {
   "cell_type": "markdown",
   "metadata": {},
   "source": [
    "* **The Kelvin scale**: 100 K is twice as hot as 50 K; the difference between values is meaningful and can be ordered.\n",
    "* **Weight**: 100 kg is twice as heavy as 50 kg; the difference between 45 kg and 55 kg is the same as that between 105 kg and 100 kg; values can be arranged in an order (ascending/ descending).\n",
    "* **Height**: 100 cm is taller than 50 cm; this difference is the same as that between 150 cm and 100 cm, or 200 cm and 150 cm; 100 cm is twice as tall as 50 cm; the values can be arranged in a particular manner (ascending/ descending)."
   ]
  },
  {
   "cell_type": "markdown",
   "metadata": {},
   "source": [
    "#### IMDB Dataset : Runtime & Number of Votes"
   ]
  },
  {
   "cell_type": "code",
   "execution_count": 7,
   "metadata": {
    "collapsed": false
   },
   "outputs": [
    {
     "data": {
      "text/html": [
       "<iframe id=\"igraph\" scrolling=\"no\" style=\"border:none;\" seamless=\"seamless\" src=\"https://plot.ly/~tijptjik/152.embed\" height=\"525px\" width=\"100%\"></iframe>"
      ],
      "text/plain": [
       "<plotly.tools.PlotlyDisplay object>"
      ]
     },
     "execution_count": 7,
     "metadata": {},
     "output_type": "execute_result"
    }
   ],
   "source": [
    "df[['Runtime (mins)','Num. Votes']].iplot(kind='hist',subplots=True,shape=(2,1))"
   ]
  },
  {
   "cell_type": "markdown",
   "metadata": {},
   "source": [
    "## Summary"
   ]
  },
  {
   "cell_type": "markdown",
   "metadata": {},
   "source": [
    "### Checkbox Table"
   ]
  },
  {
   "cell_type": "markdown",
   "metadata": {},
   "source": [
    "![](../assets/images/summary-of-data-types-and-scales.png)"
   ]
  },
  {
   "cell_type": "markdown",
   "metadata": {},
   "source": [
    "### Or is you prefer to go with the flow"
   ]
  },
  {
   "cell_type": "markdown",
   "metadata": {},
   "source": [
    "![](../assets/images/Scales%20of%20Measurement.cmap)"
   ]
  },
  {
   "cell_type": "markdown",
   "metadata": {},
   "source": [
    "## Continuous vs Discrete\n",
    "\n",
    "![](../assets/images/continuous.svg)\n",
    "\n",
    "Continuous measures are measured along a continuous scale which can be divided into fractions, such as temperature. Continuous variables allow for infinitely fine sub-division, which means if you can measure sufficiently accurately, you can compare two items and determine the difference.\n",
    "\n",
    "Discrete variables are measured across a set of fixed values, such as age in years (not microseconds). These are commonly used on arbitrary scales, such as scoring your level of happiness, although such scales can also be continuous."
   ]
  },
  {
   "cell_type": "markdown",
   "metadata": {},
   "source": [
    "#### IMDB Dataset : Ratings "
   ]
  },
  {
   "cell_type": "code",
   "execution_count": 8,
   "metadata": {
    "collapsed": false
   },
   "outputs": [
    {
     "data": {
      "text/html": [
       "<div>\n",
       "<table border=\"1\" class=\"dataframe\">\n",
       "  <thead>\n",
       "    <tr style=\"text-align: right;\">\n",
       "      <th></th>\n",
       "      <th>You rated</th>\n",
       "      <th>IMDb Rating</th>\n",
       "    </tr>\n",
       "  </thead>\n",
       "  <tbody>\n",
       "    <tr>\n",
       "      <th>1.0</th>\n",
       "      <td>17</td>\n",
       "      <td>NaN</td>\n",
       "    </tr>\n",
       "    <tr>\n",
       "      <th>2.0</th>\n",
       "      <td>59</td>\n",
       "      <td>NaN</td>\n",
       "    </tr>\n",
       "    <tr>\n",
       "      <th>2.3</th>\n",
       "      <td>NaN</td>\n",
       "      <td>1</td>\n",
       "    </tr>\n",
       "    <tr>\n",
       "      <th>2.4</th>\n",
       "      <td>NaN</td>\n",
       "      <td>3</td>\n",
       "    </tr>\n",
       "    <tr>\n",
       "      <th>2.7</th>\n",
       "      <td>NaN</td>\n",
       "      <td>1</td>\n",
       "    </tr>\n",
       "    <tr>\n",
       "      <th>2.8</th>\n",
       "      <td>NaN</td>\n",
       "      <td>1</td>\n",
       "    </tr>\n",
       "    <tr>\n",
       "      <th>2.9</th>\n",
       "      <td>NaN</td>\n",
       "      <td>1</td>\n",
       "    </tr>\n",
       "    <tr>\n",
       "      <th>3.0</th>\n",
       "      <td>109</td>\n",
       "      <td>1</td>\n",
       "    </tr>\n",
       "    <tr>\n",
       "      <th>3.1</th>\n",
       "      <td>NaN</td>\n",
       "      <td>3</td>\n",
       "    </tr>\n",
       "    <tr>\n",
       "      <th>3.2</th>\n",
       "      <td>NaN</td>\n",
       "      <td>3</td>\n",
       "    </tr>\n",
       "    <tr>\n",
       "      <th>3.3</th>\n",
       "      <td>NaN</td>\n",
       "      <td>3</td>\n",
       "    </tr>\n",
       "    <tr>\n",
       "      <th>3.4</th>\n",
       "      <td>NaN</td>\n",
       "      <td>3</td>\n",
       "    </tr>\n",
       "    <tr>\n",
       "      <th>3.5</th>\n",
       "      <td>NaN</td>\n",
       "      <td>2</td>\n",
       "    </tr>\n",
       "    <tr>\n",
       "      <th>3.6</th>\n",
       "      <td>NaN</td>\n",
       "      <td>2</td>\n",
       "    </tr>\n",
       "    <tr>\n",
       "      <th>3.7</th>\n",
       "      <td>NaN</td>\n",
       "      <td>8</td>\n",
       "    </tr>\n",
       "    <tr>\n",
       "      <th>3.8</th>\n",
       "      <td>NaN</td>\n",
       "      <td>6</td>\n",
       "    </tr>\n",
       "    <tr>\n",
       "      <th>3.9</th>\n",
       "      <td>NaN</td>\n",
       "      <td>4</td>\n",
       "    </tr>\n",
       "    <tr>\n",
       "      <th>4.0</th>\n",
       "      <td>158</td>\n",
       "      <td>4</td>\n",
       "    </tr>\n",
       "    <tr>\n",
       "      <th>4.1</th>\n",
       "      <td>NaN</td>\n",
       "      <td>6</td>\n",
       "    </tr>\n",
       "    <tr>\n",
       "      <th>4.2</th>\n",
       "      <td>NaN</td>\n",
       "      <td>5</td>\n",
       "    </tr>\n",
       "  </tbody>\n",
       "</table>\n",
       "</div>"
      ],
      "text/plain": [
       "     You rated  IMDb Rating\n",
       "1.0         17          NaN\n",
       "2.0         59          NaN\n",
       "2.3        NaN            1\n",
       "2.4        NaN            3\n",
       "2.7        NaN            1\n",
       "2.8        NaN            1\n",
       "2.9        NaN            1\n",
       "3.0        109            1\n",
       "3.1        NaN            3\n",
       "3.2        NaN            3\n",
       "3.3        NaN            3\n",
       "3.4        NaN            3\n",
       "3.5        NaN            2\n",
       "3.6        NaN            2\n",
       "3.7        NaN            8\n",
       "3.8        NaN            6\n",
       "3.9        NaN            4\n",
       "4.0        158            4\n",
       "4.1        NaN            6\n",
       "4.2        NaN            5"
      ]
     },
     "execution_count": 8,
     "metadata": {},
     "output_type": "execute_result"
    }
   ],
   "source": [
    "df[['You rated','IMDb Rating']].apply(pd.Series.value_counts).head(20)"
   ]
  },
  {
   "cell_type": "code",
   "execution_count": 9,
   "metadata": {
    "collapsed": false
   },
   "outputs": [
    {
     "data": {
      "text/html": [
       "<iframe id=\"igraph\" scrolling=\"no\" style=\"border:none;\" seamless=\"seamless\" src=\"https://plot.ly/~tijptjik/154.embed\" height=\"525px\" width=\"100%\"></iframe>"
      ],
      "text/plain": [
       "<plotly.tools.PlotlyDisplay object>"
      ]
     },
     "execution_count": 9,
     "metadata": {},
     "output_type": "execute_result"
    }
   ],
   "source": [
    "df[['You rated','IMDb Rating']].apply(pd.Series.value_counts).iplot(mode='markers')"
   ]
  },
  {
   "cell_type": "code",
   "execution_count": 10,
   "metadata": {
    "collapsed": false
   },
   "outputs": [
    {
     "data": {
      "text/html": [
       "<iframe id=\"igraph\" scrolling=\"no\" style=\"border:none;\" seamless=\"seamless\" src=\"https://plot.ly/~tijptjik/156.embed\" height=\"525px\" width=\"100%\"></iframe>"
      ],
      "text/plain": [
       "<plotly.tools.PlotlyDisplay object>"
      ]
     },
     "execution_count": 10,
     "metadata": {},
     "output_type": "execute_result"
    }
   ],
   "source": [
    "df[['You rated','IMDb Rating']].apply(pd.Series.value_counts).ffill().iplot()"
   ]
  },
  {
   "cell_type": "markdown",
   "metadata": {},
   "source": [
    "## References"
   ]
  },
  {
   "cell_type": "markdown",
   "metadata": {},
   "source": [
    "1. [On the statistical treatment of football numbers](http://www-stat.wharton.upenn.edu/~hwainer/Readings/Frederick%20Lord_On%20the%20statistical%20treatment%20of%20football%20numbers.pdf) - Parable about the levels of measurement"
   ]
  }
 ],
 "metadata": {
  "hide_input": false,
  "kernelspec": {
   "display_name": "Python 2",
   "language": "python",
   "name": "python2"
  },
  "language_info": {
   "codemirror_mode": {
    "name": "ipython",
    "version": 2
   },
   "file_extension": ".py",
   "mimetype": "text/x-python",
   "name": "python",
   "nbconvert_exporter": "python",
   "pygments_lexer": "ipython2",
   "version": "2.7.12"
  },
  "widgets": {
   "state": {
    "4e12fdf3b34a4d33bb5fd82a5ac09180": {
     "views": [
      {
       "cell_index": 22
      }
     ]
    },
    "6d33b4f5dafe4a4aa6c3404b22bbb5c9": {
     "views": [
      {
       "cell_index": 7
      }
     ]
    }
   },
   "version": "1.2.0"
  }
 },
 "nbformat": 4,
 "nbformat_minor": 0
}
